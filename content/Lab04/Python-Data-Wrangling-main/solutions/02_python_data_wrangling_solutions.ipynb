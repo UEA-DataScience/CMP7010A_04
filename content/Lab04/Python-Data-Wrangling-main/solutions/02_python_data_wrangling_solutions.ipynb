{
 "cells": [
  {
   "cell_type": "code",
   "execution_count": null,
   "metadata": {},
   "outputs": [],
   "source": [
    "import pandas as pd\n",
    "import numpy as np\n",
    "import matplotlib.pyplot as plt\n",
    "%matplotlib inline"
   ]
  },
  {
   "cell_type": "code",
   "execution_count": null,
   "metadata": {},
   "outputs": [],
   "source": [
    "# Open the unemployment dataset\n",
    "unemployment = pd.read_csv('../data/cleaned_country_totals.csv')\n",
    "# This is some formatting that's out of scope\n",
    "unemployment['date'] = pd.to_datetime(unemployment['date'])\n",
    "\n",
    "# Open the countries dataset\n",
    "countries = pd.read_csv('../data/countries.csv')"
   ]
  },
  {
   "cell_type": "code",
   "execution_count": null,
   "metadata": {},
   "outputs": [],
   "source": [
    "unemployment = unemployment.dropna(subset=\"unemployment_rate\")\n",
    "unemployment.head()"
   ]
  },
  {
   "attachments": {},
   "cell_type": "markdown",
   "metadata": {},
   "source": [
    "## 🥊 Challenge 5\n",
    "Let's use sorting to answer a practical question:  \n",
    "\n",
    "<span style=\"color:purple\">Which country has the highest unemployment rate in our data?  \n",
    "</span>\n",
    "<details><summary><a>Click for hint</a></summary>\n",
    "1. Use <code>.sort_values()</code> to sort this data based on the unemployment rate using descending order<br>\n",
    "2. Select the top row using <code>.head()</code> with an argument for number of rows<br>\n",
    "</details>\n",
    "\n"
   ]
  },
  {
   "cell_type": "code",
   "execution_count": null,
   "metadata": {},
   "outputs": [],
   "source": [
    "# YOUR CODE HERE\n",
    "\n",
    "unemployment.sort_values(by='unemployment_rate', ascending=False).head(1)"
   ]
  },
  {
   "cell_type": "code",
   "execution_count": null,
   "metadata": {},
   "outputs": [],
   "source": [
    "unemployment_merged = pd.merge(unemployment, countries, on='country')\n",
    "unemployment_merged"
   ]
  },
  {
   "attachments": {},
   "cell_type": "markdown",
   "metadata": {},
   "source": [
    "## 🥊 Challenge 6\n",
    "Try using `.value_counts()` on the `missing_data` DataFrame to find out how many observations are from EU versus non-EU records"
   ]
  },
  {
   "cell_type": "code",
   "execution_count": null,
   "metadata": {},
   "outputs": [],
   "source": [
    "### YOUR CODE HERE\n",
    "\n",
    "unemployment_merged['country_group'].value_counts()"
   ]
  },
  {
   "attachments": {},
   "cell_type": "markdown",
   "metadata": {},
   "source": [
    "\n",
    "## 🥊 Challenge 7\n",
    "\n",
    "Use `.groupby()` to find the maximum unemployment rate for each country. Sort your results from largest to smallest.\n",
    "Use the example above for guidance.\n",
    "<details><summary><a>Click for hint</a></summary>\n",
    "1. First, use <code>groupby()</code> to group on \"name_en\". <br>\n",
    "2. Then, select the \"unemployment_rate\" column,<br>\n",
    "3. Aggregate by using <code>.max()</code> to get the max value.<br>\n",
    "4. Chain on the method <code>.sort_values(ascending=False)</code>.\n",
    "</details>"
   ]
  },
  {
   "cell_type": "code",
   "execution_count": null,
   "metadata": {},
   "outputs": [],
   "source": [
    "# YOUR CODE HERE\n",
    "\n",
    "unemployment_merged.groupby('name_en')['unemployment_rate'].max().sort_values(ascending=False)"
   ]
  },
  {
   "cell_type": "code",
   "execution_count": null,
   "metadata": {},
   "outputs": [],
   "source": []
  },
  {
   "cell_type": "code",
   "execution_count": null,
   "metadata": {},
   "outputs": [],
   "source": []
  }
 ],
 "metadata": {
  "kernelspec": {
   "display_name": "Python [conda env:base] *",
   "language": "python",
   "name": "conda-base-py"
  },
  "language_info": {
   "codemirror_mode": {
    "name": "ipython",
    "version": 3
   },
   "file_extension": ".py",
   "mimetype": "text/x-python",
   "name": "python",
   "nbconvert_exporter": "python",
   "pygments_lexer": "ipython3",
   "version": "3.13.5"
  }
 },
 "nbformat": 4,
 "nbformat_minor": 4
}
